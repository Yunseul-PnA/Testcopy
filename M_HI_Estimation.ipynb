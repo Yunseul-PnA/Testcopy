{
 "cells": [
  {
   "cell_type": "code",
   "execution_count": 1,
   "metadata": {},
   "outputs": [],
   "source": [
    "import numpy as np"
   ]
  },
  {
   "cell_type": "code",
   "execution_count": 2,
   "metadata": {},
   "outputs": [
    {
     "name": "stdout",
     "output_type": "stream",
     "text": [
      "CF range from 0.2 to 0.6\n",
      "M_HI of low mass 0.02 Sun_Mass\n",
      "M_HI of high mass 0.06 Sun_Mass\n",
      "M_HI of mid mass 0.05 Sun_Mass\n"
     ]
    }
   ],
   "source": [
    "def M_HI(N_HI,R_out,CF):\n",
    "    term1 = (N_HI/10**20) # cm^-2\n",
    "    term2 = (R_out/10**(3))**2 # au\n",
    "    term = term1 * term2*CF\n",
    "    return 1.377* 10**(-4) * term\n",
    "import numpy as np\n",
    "\n",
    "R_out = 13000 #au\n",
    "N_HI= 5*10**20 # cm^-2\n",
    "\n",
    "# N_HI_6886= 5*10**20 # cm^-2\n",
    "# N_HI_6881= 3*10**20 # cm^-2\n",
    "CF_Low = 2 * (15) / 180\n",
    "CF_Mid = 2 * (35) / 180\n",
    "CF_High = 2 * (50) / 180 \n",
    "# CF_1 = 2 * (20) / 180 # NGC 6884\n",
    "# CF_2 = 2 * (45) / 180 # NGC 6741 , NGC 6886 \n",
    "# CF_3 = 0.6\n",
    "# 2 * (60) / 180 # NGC 6881\n",
    "\n",
    "# print(\"M_HI of Test\", M_HI(N_HI,R_out,CF_0),'Sun_Mass')\n",
    "# print(\"M_HI of NGC 6884\", M_HI(N_HI,R_out,CF_1),'Sun_Mass')\n",
    "print( \"CF range from\",np.round(CF_Low,1),\"to\",np.round(CF_High,1))\n",
    "print(\"M_HI of low mass\", np.round(M_HI(N_HI,R_out,CF_Low),2),'Sun_Mass')\n",
    "print(\"M_HI of high mass\", np.round(M_HI(N_HI,R_out,CF_High),2),'Sun_Mass')\n",
    "print(\"M_HI of mid mass\", np.round(M_HI(N_HI,R_out,CF_Mid),2),'Sun_Mass')\n"
   ]
  }
 ],
 "metadata": {
  "kernelspec": {
   "display_name": "base",
   "language": "python",
   "name": "python3"
  },
  "language_info": {
   "codemirror_mode": {
    "name": "ipython",
    "version": 3
   },
   "file_extension": ".py",
   "mimetype": "text/x-python",
   "name": "python",
   "nbconvert_exporter": "python",
   "pygments_lexer": "ipython3",
   "version": "3.11.5"
  }
 },
 "nbformat": 4,
 "nbformat_minor": 2
}
