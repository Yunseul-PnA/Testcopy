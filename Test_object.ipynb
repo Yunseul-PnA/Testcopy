{
 "cells": [
  {
   "cell_type": "code",
   "execution_count": 5,
   "metadata": {},
   "outputs": [],
   "source": [
    "import numpy as np"
   ]
  },
  {
   "cell_type": "code",
   "execution_count": 13,
   "metadata": {},
   "outputs": [
    {
     "name": "stdout",
     "output_type": "stream",
     "text": [
      "f12: 0.2852\n",
      "nuH: 1.933e+15 Hz\n",
      "nuK: 1.936e+15 Hz\n",
      "nu_0: 1.935e+15 Hz\n",
      "4.750505105954363e-22\n",
      "3.141592653589793\n"
     ]
    }
   ],
   "source": [
    "f12 = 0.0952 + 0.190\n",
    "me =  9.10938356e-28\n",
    "ee= 1.602e-19  #*3e9\n",
    "c = 2.99792458e10 \n",
    "\n",
    "gamma_H = 2.64e8  # Hz\n",
    "gamma_K = 2.65e8  # Hz\n",
    "f12_H = 0.0952\n",
    "f12_K = 0.190\n",
    "wlH = 1550.772e-8  # cm\n",
    "wlK = 1548.187e-8  # cm\n",
    "\n",
    "# Calculate derived values\n",
    "f12 = f12_H + f12_K\n",
    "nuH = c / wlH\n",
    "nuK = c / wlK\n",
    "nu_0 = (f12_H * nuH + f12_K * nuK) / f12\n",
    "\n",
    "# Output results\n",
    "print(f\"f12: {f12}\")\n",
    "print(f\"nuH: {nuH:.3e} Hz\")\n",
    "print(f\"nuK: {nuK:.3e} Hz\")\n",
    "print(f\"nu_0: {nu_0:.3e} Hz\")\n",
    "sig_CIV = f12 *np.sqrt(np.pi) * ee**2 / (me*c) \n",
    "print(sig_CIV)\n",
    "\n",
    "pi = 4.0 * np.arctan(1.0)\n",
    "print(pi)"
   ]
  }
 ],
 "metadata": {
  "kernelspec": {
   "display_name": "base",
   "language": "python",
   "name": "python3"
  },
  "language_info": {
   "codemirror_mode": {
    "name": "ipython",
    "version": 3
   },
   "file_extension": ".py",
   "mimetype": "text/x-python",
   "name": "python",
   "nbconvert_exporter": "python",
   "pygments_lexer": "ipython3",
   "version": "3.11.5"
  }
 },
 "nbformat": 4,
 "nbformat_minor": 2
}
