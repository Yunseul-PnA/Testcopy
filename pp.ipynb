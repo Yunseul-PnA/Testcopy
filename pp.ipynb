{
 "cells": [
  {
   "cell_type": "code",
   "execution_count": 1,
   "metadata": {},
   "outputs": [],
   "source": [
    "import numpy as np\n",
    "import matplotlib.pyplot as plt\n",
    "from astropy.constants import m_e, e ,c \n",
    "from astropy import units as u\n",
    "from scipy.constants import physical_constants\n",
    "from scipy.constants import physical_constants, c as cc"
   ]
  },
  {
   "cell_type": "code",
   "execution_count": null,
   "metadata": {},
   "outputs": [],
   "source": []
  },
  {
   "cell_type": "code",
   "execution_count": 2,
   "metadata": {},
   "outputs": [],
   "source": [
    "C_IV_K = 1548.187e-8  # cm\n",
    "C_IV_H = 1550.772e-8  # cm\n",
    "\n",
    "C_IV_K_A = 1548.187  # cm\n",
    "C_IV_H_A = 1550.772  # cm\n",
    "\n",
    "cc = c.to(u.cm / u.s).value  # cm/s\n",
    "cc_k = c.to(u.km / u.s).value #km / s\n",
    "v_th_CIV = 11.7673179819719e5  # cm/s\n",
    "\n",
    "K_gamma = 2.65e+8\n",
    "H_gamma = 2.64e+8\n",
    "f_CIV_K = 0.190\n",
    "f_CIV_H = 0.0952\n",
    "\n"
   ]
  },
  {
   "cell_type": "code",
   "execution_count": null,
   "metadata": {},
   "outputs": [],
   "source": []
  },
  {
   "cell_type": "code",
   "execution_count": 19,
   "metadata": {},
   "outputs": [
    {
     "ename": "KeyboardInterrupt",
     "evalue": "",
     "output_type": "error",
     "traceback": [
      "\u001b[0;31m---------------------------------------------------------------------------\u001b[0m",
      "\u001b[0;31mKeyboardInterrupt\u001b[0m                         Traceback (most recent call last)",
      "Cell \u001b[0;32mIn[19], line 46\u001b[0m\n\u001b[1;32m     43\u001b[0m xx \u001b[38;5;241m=\u001b[39m np\u001b[38;5;241m.\u001b[39marange(\u001b[38;5;241m1520\u001b[39m,\u001b[38;5;241m1570\u001b[39m,\u001b[38;5;241m0.001\u001b[39m)\n\u001b[1;32m     45\u001b[0m \u001b[38;5;66;03m# Usage with existing variables (assuming they are already defined)\u001b[39;00m\n\u001b[0;32m---> 46\u001b[0m xx_K, voigt_K, delta_D_K \u001b[38;5;241m=\u001b[39m voigt(xx, v_th_CIV, C_IV_K, K_gamma, f_CIV_K)\n\u001b[1;32m     47\u001b[0m xx_30, voigt_30, delta_D_30 \u001b[38;5;241m=\u001b[39m voigt(xx, \u001b[38;5;241m30e5\u001b[39m, C_IV_K, K_gamma, f_CIV_K)\n\u001b[1;32m     48\u001b[0m xx_50, voigt_50, delta_D_50 \u001b[38;5;241m=\u001b[39m voigt(xx, \u001b[38;5;241m50e5\u001b[39m, C_IV_K, K_gamma, f_CIV_K)\n",
      "Cell \u001b[0;32mIn[19], line 36\u001b[0m, in \u001b[0;36mvoigt\u001b[0;34m(lambda_x, v_th, line_K, line_gamma_K, f_K)\u001b[0m\n\u001b[1;32m     34\u001b[0m exp_d \u001b[38;5;241m=\u001b[39m (x \u001b[38;5;241m-\u001b[39m yy_x)\u001b[38;5;241m*\u001b[39m\u001b[38;5;241m*\u001b[39m\u001b[38;5;241m2\u001b[39m \u001b[38;5;241m+\u001b[39m a\u001b[38;5;241m*\u001b[39m\u001b[38;5;241m*\u001b[39m\u001b[38;5;241m2\u001b[39m\n\u001b[1;32m     35\u001b[0m exp \u001b[38;5;241m=\u001b[39m exp_u \u001b[38;5;241m/\u001b[39m exp_d\n\u001b[0;32m---> 36\u001b[0m F_lamb \u001b[38;5;241m=\u001b[39m np\u001b[38;5;241m.\u001b[39msum(exp) \u001b[38;5;241m*\u001b[39m dy\n\u001b[1;32m     38\u001b[0m sol[ii] \u001b[38;5;241m=\u001b[39m F_lamb\n\u001b[1;32m     39\u001b[0m x_K[ii] \u001b[38;5;241m=\u001b[39m x\n",
      "File \u001b[0;32m<__array_function__ internals>:200\u001b[0m, in \u001b[0;36msum\u001b[0;34m(*args, **kwargs)\u001b[0m\n",
      "File \u001b[0;32m~/anaconda3/lib/python3.11/site-packages/numpy/core/fromnumeric.py:2324\u001b[0m, in \u001b[0;36msum\u001b[0;34m(a, axis, dtype, out, keepdims, initial, where)\u001b[0m\n\u001b[1;32m   2321\u001b[0m         \u001b[38;5;28;01mreturn\u001b[39;00m out\n\u001b[1;32m   2322\u001b[0m     \u001b[38;5;28;01mreturn\u001b[39;00m res\n\u001b[0;32m-> 2324\u001b[0m \u001b[38;5;28;01mreturn\u001b[39;00m _wrapreduction(a, np\u001b[38;5;241m.\u001b[39madd, \u001b[38;5;124m'\u001b[39m\u001b[38;5;124msum\u001b[39m\u001b[38;5;124m'\u001b[39m, axis, dtype, out, keepdims\u001b[38;5;241m=\u001b[39mkeepdims,\n\u001b[1;32m   2325\u001b[0m                       initial\u001b[38;5;241m=\u001b[39minitial, where\u001b[38;5;241m=\u001b[39mwhere)\n",
      "File \u001b[0;32m~/anaconda3/lib/python3.11/site-packages/numpy/core/fromnumeric.py:86\u001b[0m, in \u001b[0;36m_wrapreduction\u001b[0;34m(obj, ufunc, method, axis, dtype, out, **kwargs)\u001b[0m\n\u001b[1;32m     83\u001b[0m         \u001b[38;5;28;01melse\u001b[39;00m:\n\u001b[1;32m     84\u001b[0m             \u001b[38;5;28;01mreturn\u001b[39;00m reduction(axis\u001b[38;5;241m=\u001b[39maxis, out\u001b[38;5;241m=\u001b[39mout, \u001b[38;5;241m*\u001b[39m\u001b[38;5;241m*\u001b[39mpasskwargs)\n\u001b[0;32m---> 86\u001b[0m \u001b[38;5;28;01mreturn\u001b[39;00m ufunc\u001b[38;5;241m.\u001b[39mreduce(obj, axis, dtype, out, \u001b[38;5;241m*\u001b[39m\u001b[38;5;241m*\u001b[39mpasskwargs)\n",
      "\u001b[0;31mKeyboardInterrupt\u001b[0m: "
     ]
    }
   ],
   "source": [
    "C_IV_K = 1548.187e-8  # cm\n",
    "C_IV_H = 1550.772e-8  # cm\n",
    "\n",
    "C_IV_K_A = 1548.187  # cm\n",
    "C_IV_H_A = 1550.772  # cm\n",
    "\n",
    "cc = c.to(u.cm / u.s).value  # cm/s\n",
    "cc_k = c.to(u.km / u.s).value #km / s\n",
    "v_th_CIV = 11.7673179819719e5  # cm/s\n",
    "\n",
    "K_gamma = 2.65e+8\n",
    "H_gamma = 2.64e+8\n",
    "f_CIV_K = 0.190\n",
    "f_CIV_H = 0.0952\n",
    "\n",
    "\n",
    "\n",
    "def voigt(lambda_x, v_th, line_K, line_gamma_K, f_K):\n",
    "    delta_D = v_th / line_K  #1/s\n",
    "\n",
    "    a = line_gamma_K / (np.pi * 4 * delta_D) \n",
    "\n",
    "    yy_x = np.arange(-1000, 1000, 0.0001)\n",
    "    dy = abs(yy_x[1] - yy_x[0])\n",
    "    sol = np.zeros(len(lambda_x))\n",
    "    x_K = np.zeros(len(lambda_x))\n",
    "\n",
    "    # Precompute exp(-yy_x^2) since it doesn't depend on xx\n",
    "    exp_u = np.exp(-yy_x**2)\n",
    "\n",
    "    # Calculate x_K array for all lambda_x values at once\n",
    "    for ii, xx in enumerate(lambda_x):\n",
    "        x = (1 / (xx * 1e-8) - 1 / line_K) * cc / delta_D\n",
    "        exp_d = (x - yy_x)**2 + a**2\n",
    "        exp = exp_u / exp_d\n",
    "        F_lamb = np.sum(exp) * dy\n",
    "\n",
    "        sol[ii] = F_lamb\n",
    "        x_K[ii] = x\n",
    "\n",
    "    return x_K, sol * a / np.pi, delta_D\n",
    "\n",
    "xx = np.arange(1520,1570,0.001)\n",
    "\n",
    "# Usage with existing variables (assuming they are already defined)\n",
    "xx_K, voigt_K, delta_D_K = voigt(xx, v_th_CIV, C_IV_K, K_gamma, f_CIV_K)\n",
    "xx_30, voigt_30, delta_D_30 = voigt(xx, 30e5, C_IV_K, K_gamma, f_CIV_K)\n",
    "xx_50, voigt_50, delta_D_50 = voigt(xx, 50e5, C_IV_K, K_gamma, f_CIV_K)\n"
   ]
  },
  {
   "cell_type": "code",
   "execution_count": null,
   "metadata": {},
   "outputs": [
    {
     "data": {
      "text/plain": [
       "(-10.0, 10.0)"
      ]
     },
     "execution_count": 18,
     "metadata": {},
     "output_type": "execute_result"
    },
    {
     "data": {
      "image/png": "[encoded data removed]",
      "text/plain": [
       "<Figure size 640x480 with 1 Axes>"
      ]
     },
     "metadata": {},
     "output_type": "display_data"
    }
   ],
   "source": [
    "plt.plot(xx_K,voigt_K)\n",
    "# plt.xlim(-10,10)\n",
    "\n",
    "plt.plot(xx_50,voigt_50,'r--')\n",
    "plt.xlim(-10,10)\n"
   ]
  },
  {
   "cell_type": "code",
   "execution_count": null,
   "metadata": {},
   "outputs": [],
   "source": []
  },
  {
   "cell_type": "code",
   "execution_count": null,
   "metadata": {},
   "outputs": [],
   "source": []
  }
 ],
 "metadata": {
  "kernelspec": {
   "display_name": "base",
   "language": "python",
   "name": "python3"
  },
  "language_info": {
   "codemirror_mode": {
    "name": "ipython",
    "version": 3
   },
   "file_extension": ".py",
   "mimetype": "text/x-python",
   "name": "python",
   "nbconvert_exporter": "python",
   "pygments_lexer": "ipython3",
   "version": "3.11.5"
  }
 },
 "nbformat": 4,
 "nbformat_minor": 2
}
